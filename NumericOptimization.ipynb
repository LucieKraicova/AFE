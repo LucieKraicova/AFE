{
 "cells": [
  {
   "cell_type": "code",
   "execution_count": 1,
   "metadata": {},
   "outputs": [],
   "source": [
    "import torch \n",
    "import numpy as np"
   ]
  },
  {
   "cell_type": "code",
   "execution_count": null,
   "metadata": {},
   "outputs": [],
   "source": []
  },
  {
   "cell_type": "code",
   "execution_count": null,
   "metadata": {},
   "outputs": [],
   "source": [
    "## relevant opt. materials\n",
    "# https://scipy-lectures.org/advanced/mathematical_optimization/index.html\n",
    "# https://mlexplained.com/2018/02/02/an-introduction-to-second-order-optimization-for-deep-learning-practitioners-basic-math-for-deep-learning-part-1/\n",
    "\n",
    "## autodiff\n",
    "# https://www.cs.toronto.edu/~duvenaud/talks/Johnson-Automatic-Differentiation.pdf"
   ]
  },
  {
   "cell_type": "code",
   "execution_count": 2,
   "metadata": {},
   "outputs": [],
   "source": [
    "## interesting functions \n",
    "\n",
    "def rosenbrock(X):\n",
    "    \"\"\"\n",
    "    This R^2 -> R^1 function should be compatible with algopy.\n",
    "    http://en.wikipedia.org/wiki/Rosenbrock_function\n",
    "    A generalized implementation is available\n",
    "    as the scipy.optimize.rosen function\n",
    "    \"\"\"\n",
    "    x = X[0]\n",
    "    y = X[1]\n",
    "    a = 1. - x\n",
    "    b = y - x*x\n",
    "    return a*a + b*b*100.\n",
    "\n",
    "\n",
    "def himmelblau(X):\n",
    "    \"\"\"\n",
    "    This R^2 -> R^1 function should be compatible with algopy.\n",
    "    http://en.wikipedia.org/wiki/Himmelblau%27s_function\n",
    "    This function has four local minima where the value of the function is 0.\n",
    "    \"\"\"\n",
    "    x = X[0]\n",
    "    y = X[1]\n",
    "    a = x*x + y - 11\n",
    "    b = x + y*y - 7\n",
    "    return a*a + b*b"
   ]
  }
 ],
 "metadata": {
  "kernelspec": {
   "display_name": "Python [conda env:torch]",
   "language": "python",
   "name": "conda-env-torch-py"
  },
  "language_info": {
   "codemirror_mode": {
    "name": "ipython",
    "version": 3
   },
   "file_extension": ".py",
   "mimetype": "text/x-python",
   "name": "python",
   "nbconvert_exporter": "python",
   "pygments_lexer": "ipython3",
   "version": "3.7.4"
  }
 },
 "nbformat": 4,
 "nbformat_minor": 4
}
